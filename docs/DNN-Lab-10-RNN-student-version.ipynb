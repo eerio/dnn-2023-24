{
  "cells": [
    {
      "cell_type": "markdown",
      "metadata": {
        "jukit_cell_id": "KE8mdQxOzy"
      },
      "source": [
        "<center><img src='https://drive.google.com/uc?id=1_utx_ZGclmCwNttSe40kYA6VHzNocdET' height=\"60\"></center>\n",
        "\n",
        "AI TECH - Akademia Innowacyjnych Zastosowa\u0144 Technologii Cyfrowych. Program Operacyjny Polska Cyfrowa na lata 2014-2020\n",
        "<hr>\n",
        "\n",
        "<center><img src='https://drive.google.com/uc?id=1BXZ0u3562N_MqCLcekI-Ens77Kk4LpPm'></center>\n",
        "\n",
        "<center>\n",
        "Projekt wsp\u00f3\u0142finansowany ze \u015brodk\u00f3w Unii Europejskiej w ramach Europejskiego Funduszu Rozwoju Regionalnego \n",
        "Program Operacyjny Polska Cyfrowa na lata 2014-2020,\n",
        "O\u015b Priorytetowa nr 3 \"Cyfrowe kompetencje spo\u0142ecze\u0144stwa\" Dzia\u0142anie  nr 3.2 \"Innowacyjne rozwi\u0105zania na rzecz aktywizacji cyfrowej\" \n",
        "Tytu\u0142 projektu:  \u201eAkademia Innowacyjnych Zastosowa\u0144 Technologii Cyfrowych (AI Tech)\u201d\n",
        "    </center>"
      ]
    },
    {
      "cell_type": "markdown",
      "metadata": {
        "jukit_cell_id": "oJh0BINGcc"
      },
      "source": [
        "# TL;DR\n",
        "\n",
        "1. In this lab scenario you will have a chance to compare performance of the classic RNN and LSTM on a toy example. \n",
        "2. This toy example will show that maintaining memory over even 20 steps is non-trivial. \n",
        "3. Finally, you will see how curriculum learning may allow to train a model on larger sequences.\n",
        "\n",
        "# Problem definition\n",
        "\n",
        "Here we consider a toy example, where the goal is to discriminate between two types of binary sequences:\n",
        "* [Type 0] a sequence with exactly one zero (remaining entries are equal to one).\n",
        "* [Type 1] a sequence full of ones,\n",
        "\n",
        "We are especially interested in the performance of the trained models on discriminating between a sequence full of ones versus a sequence with leading zero followed by ones. Note that in this case the goal of the model is to output the first element of the sequence, as the label (sequence type) is fully determined by the first element of the sequence."
      ]
    },
    {
      "cell_type": "markdown",
      "metadata": {
        "jukit_cell_id": "wtfph2WpCZ"
      },
      "source": [
        "#Implementation"
      ]
    },
    {
      "cell_type": "markdown",
      "metadata": {
        "jukit_cell_id": "cx7ozEWkZg"
      },
      "source": [
        "## Importing torch\n",
        "\n",
        "Install `torch` and `torchvision`"
      ]
    },
    {
      "cell_type": "code",
      "metadata": {
        "jukit_cell_id": "CQdcvU4fiD"
      },
      "source": [
        "!pip3 install torch torchvision"
      ],
      "outputs": [],
      "execution_count": null
    },
    {
      "cell_type": "code",
      "metadata": {
        "jukit_cell_id": "qQCiUqSXtp"
      },
      "source": [
        "import torch\n",
        "import torch.nn as nn\n",
        "import torch.optim as optim\n",
        "import torch.nn.functional as F\n",
        "from typing import List\n",
        "from tqdm import tqdm\n",
        "\n",
        "torch.manual_seed(1)"
      ],
      "outputs": [
        {
          "output_type": "stream",
          "name": "stdout",
          "text": "\n"
        },
        {
          "output_type": "execute_result",
          "execution_count": 1,
          "data": {
            "text/plain": "<torch._C.Generator at 0x7fee0589ddb0>"
          },
          "metadata": {}
        }
      ],
      "execution_count": 1
    },
    {
      "cell_type": "markdown",
      "metadata": {
        "jukit_cell_id": "IhLStTGQkn"
      },
      "source": [
        "## Understand dimensionality\n",
        "\n",
        "Check the input and output specification [LSTM](https://pytorch.org/docs/stable/generated/torch.nn.LSTM.html) and [RNN](https://pytorch.org/docs/stable/generated/torch.nn.RNN.html). The following snippet shows how we can process\n",
        "a sequence by LSTM and output a vector of size `hidden_dim` after reading\n",
        "each token of the sequence. "
      ]
    },
    {
      "cell_type": "code",
      "metadata": {
        "jukit_cell_id": "bnw9OesZOX"
      },
      "source": [
        "hidden_dim = 5\n",
        "lstm = nn.LSTM(1, hidden_dim)  # Input sequence contains elements - vectors of size 1\n",
        "\n",
        "# create a random sequence\n",
        "sequence = [torch.randn(1) for _ in range(10)]\n",
        "\n",
        "# initialize the hidden state (including cell state)\n",
        "hidden = (torch.zeros(1, 1, 5),\n",
        "          torch.zeros(1, 1, 5))\n",
        "\n",
        "for i, elem in enumerate(sequence):\n",
        "  # we are processing only a single element of the sequence, and there\n",
        "  # is only one sample (sequence) in the batch, the third one\n",
        "  # corresponds to the fact that our sequence contains elemenents,\n",
        "  # which can be treated as vectors of size 1\n",
        "  out, hidden = lstm(elem.view(1, 1, 1), hidden)\n",
        "  print(f'i={i} out={out.detach()}')\n",
        "print(f'Final hidden state={hidden[0].detach()} cell state={hidden[1].detach()}')"
      ],
      "outputs": [
        {
          "output_type": "stream",
          "name": "stdout",
          "text": "i=0 out=tensor([[[-0.0675,  0.1179,  0.1081,  0.0414, -0.0341]]])\ni=1 out=tensor([[[-0.1067,  0.1726,  0.1400,  0.0902, -0.0596]]])\ni=2 out=tensor([[[-0.1148,  0.1885,  0.1956,  0.0974, -0.0840]]])\ni=3 out=tensor([[[-0.1270,  0.2031,  0.1495,  0.1249, -0.0860]]])\ni=4 out=tensor([[[-0.1281,  0.2019,  0.1810,  0.1475, -0.1027]]])\ni=5 out=tensor([[[-0.1274,  0.2060,  0.0798,  0.1330, -0.0860]]])\ni=6 out=tensor([[[-0.1318,  0.2039,  0.0997,  0.1772, -0.1011]]])\ni=7 out=tensor([[[-0.1145,  0.2008, -0.0431,  0.1051, -0.0717]]])\ni=8 out=tensor([[[-0.1289,  0.1989,  0.0515,  0.1944, -0.1030]]])\ni=9 out=tensor([[[-0.1329,  0.1920,  0.0686,  0.1772, -0.0988]]])\nFinal hidden state=tensor([[[-0.1329,  0.1920,  0.0686,  0.1772, -0.0988]]]) cell state=tensor([[[-0.2590,  0.4080,  0.1307,  0.4329, -0.2895]]])\n"
        }
      ],
      "execution_count": 2
    },
    {
      "cell_type": "markdown",
      "metadata": {
        "jukit_cell_id": "PRbz6shJ8T"
      },
      "source": [
        "## To implement\n",
        "\n",
        "Process the whole sequence all at once by calling `lstm` only once and check that the output is exactly the same as above (remember to initialize the hidden state the same way)."
      ]
    },
    {
      "cell_type": "code",
      "metadata": {
        "jukit_cell_id": "TfIHNzHo3z"
      },
      "source": [
        "# #########################################################\n",
        "#                    To implement\n",
        "# #########################################################"
      ],
      "outputs": [],
      "execution_count": null
    },
    {
      "cell_type": "markdown",
      "metadata": {
        "jukit_cell_id": "cRU2lN74fU"
      },
      "source": [
        "## Training a model\n",
        "\n",
        "Below we define a very simple model, which is a single layer of LSTM, where the output in each time step is processed by relu followed by a single fully connected layer, the output of which is a single number. We are going\n",
        "to use the number generated after reading the last element of the sequence,\n",
        "which will serve as the logit for our classification problem."
      ]
    },
    {
      "cell_type": "code",
      "metadata": {
        "jukit_cell_id": "eBgIwv79EA"
      },
      "source": [
        "class Model(nn.Module):\n",
        "\n",
        "    def __init__(self, hidden_dim: int):\n",
        "        super(Model, self).__init__()\n",
        "        self.hidden_dim = hidden_dim\n",
        "        self.lstm = nn.LSTM(1, self.hidden_dim)\n",
        "        self.hidden2label = nn.Linear(hidden_dim, 1)\n",
        "\n",
        "    def forward(self, x: torch.Tensor) -> torch.Tensor:\n",
        "        out, _ = self.lstm(x)\n",
        "        sequence_len = x.shape[0]\n",
        "        logits = self.hidden2label(F.relu(out[-1].view(-1)))\n",
        "        return logits"
      ],
      "outputs": [],
      "execution_count": null
    },
    {
      "cell_type": "markdown",
      "metadata": {
        "jukit_cell_id": "JgMaOabC4s"
      },
      "source": [
        "Below is a training loop, where we only train on the two hardest examples."
      ]
    },
    {
      "cell_type": "code",
      "metadata": {
        "jukit_cell_id": "H2wpWYlQ1Q"
      },
      "source": [
        "SEQUENCE_LEN = 10\n",
        "\n",
        "# Pairs of (sequence, label)\n",
        "HARD_EXAMPLES = [([0.]+(SEQUENCE_LEN-1)*[1.], 0),\n",
        "                 (SEQUENCE_LEN*[1.], 1)]\n",
        "\n",
        "\n",
        "def eval_on_hard_examples(model: nn.Module) -> List[float]:\n",
        "    with torch.no_grad():\n",
        "        logits = []\n",
        "        for sequence in HARD_EXAMPLES:\n",
        "            input = torch.tensor(sequence[0]).view(-1, 1, 1)\n",
        "            logit = model(input)\n",
        "            logits.append(logit.detach())\n",
        "        print(f'Logits for hard examples={logits}')\n",
        "        return logits\n",
        "\n",
        "\n",
        "def train_model(hidden_dim: int, lr: float, num_steps:int = 10000) -> None:\n",
        "    model = Model(hidden_dim=hidden_dim)\n",
        "    loss_function = nn.BCEWithLogitsLoss()\n",
        "    optimizer = optim.SGD(model.parameters(), lr=lr, momentum=0.99)\n",
        "\n",
        "    pbar = tqdm(range(num_steps))\n",
        "    for step in pbar:  \n",
        "        if step % 100 == 0:\n",
        "            logits = eval_on_hard_examples(model)\n",
        "            pbar.set_postfix(logits=logits)\n",
        "\n",
        "        for sequence, label in HARD_EXAMPLES:\n",
        "            model.zero_grad()\n",
        "            logit = model(torch.tensor(sequence).view(-1, 1, 1))  \n",
        "            \n",
        "            loss = loss_function(logit.view(-1), torch.tensor([label], dtype=torch.float32))\n",
        "            loss.backward()\n",
        "\n",
        "            optimizer.step()   "
      ],
      "outputs": [],
      "execution_count": null
    },
    {
      "cell_type": "code",
      "metadata": {
        "jukit_cell_id": "jRW2K012Zt"
      },
      "source": [
        "train_model(hidden_dim=20, lr=0.01, num_steps=10000)"
      ],
      "outputs": [
        {
          "output_type": "stream",
          "name": "stdout",
          "text": "Logits for hard examples=[tensor([-0.1412]), tensor([-0.1415])]\nLogits for hard examples=[tensor([0.0110]), tensor([0.0111])]\nLogits for hard examples=[tensor([0.0212]), tensor([0.0216])]\nLogits for hard examples=[tensor([-0.0009]), tensor([0.0002])]\nLogits for hard examples=[tensor([-0.0036]), tensor([0.0048])]\nLogits for hard examples=[tensor([-0.2000]), tensor([-0.2000])]\nLogits for hard examples=[tensor([0.0791]), tensor([0.0791])]\nLogits for hard examples=[tensor([0.0122]), tensor([0.0122])]\nLogits for hard examples=[tensor([-0.0060]), tensor([-0.0060])]\nLogits for hard examples=[tensor([-0.0014]), tensor([-0.0014])]\nLogits for hard examples=[tensor([0.0014]), tensor([0.0014])]\nLogits for hard examples=[tensor([0.0021]), tensor([0.0021])]\nLogits for hard examples=[tensor([0.0021]), tensor([0.0021])]\nLogits for hard examples=[tensor([0.0020]), tensor([0.0021])]\nLogits for hard examples=[tensor([0.0020]), tensor([0.0020])]\nLogits for hard examples=[tensor([0.0019]), tensor([0.0019])]\nLogits for hard examples=[tensor([0.0019]), tensor([0.0019])]\nLogits for hard examples=[tensor([0.0018]), tensor([0.0018])]\nLogits for hard examples=[tensor([0.0018]), tensor([0.0019])]\nLogits for hard examples=[tensor([0.0018]), tensor([0.0018])]\nLogits for hard examples=[tensor([0.0017]), tensor([0.0017])]\nLogits for hard examples=[tensor([0.0017]), tensor([0.0017])]\nLogits for hard examples=[tensor([0.0016]), tensor([0.0017])]\nLogits for hard examples=[tensor([0.0016]), tensor([0.0017])]\nLogits for hard examples=[tensor([0.0015]), tensor([0.0017])]\nLogits for hard examples=[tensor([0.0014]), tensor([0.0018])]\nLogits for hard examples=[tensor([0.0012]), tensor([0.0026])]\nLogits for hard examples=[tensor([0.3155]), tensor([0.3156])]\nLogits for hard examples=[tensor([0.0859]), tensor([0.0860])]\nLogits for hard examples=[tensor([-0.0119]), tensor([-0.0118])]\nLogits for hard examples=[tensor([-0.0136]), tensor([-0.0135])]\nLogits for hard examples=[tensor([0.0015]), tensor([0.0016])]\nLogits for hard examples=[tensor([0.0034]), tensor([0.0037])]\nLogits for hard examples=[tensor([0.0015]), tensor([0.0020])]\nLogits for hard examples=[tensor([0.0002]), tensor([0.0032])]\nLogits for hard examples=[tensor([0.1624]), tensor([0.1628])]\nLogits for hard examples=[tensor([-0.1107]), tensor([-0.1102])]\nLogits for hard examples=[tensor([0.0085]), tensor([0.0116])]\nLogits for hard examples=[tensor([-4.9133]), tensor([4.0319])]\nLogits for hard examples=[tensor([-8.8849]), tensor([8.2876])]\nLogits for hard examples=[tensor([-9.4427]), tensor([8.9442])]\nLogits for hard examples=[tensor([-9.5318]), tensor([9.0585])]\nLogits for hard examples=[tensor([-9.5563]), tensor([9.0968])]\nLogits for hard examples=[tensor([-9.5722]), tensor([9.1238])]\nLogits for hard examples=[tensor([-9.5869]), tensor([9.1486])]\nLogits for hard examples=[tensor([-9.6014]), tensor([9.1726])]\nLogits for hard examples=[tensor([-9.6159]), tensor([9.1959])]\nLogits for hard examples=[tensor([-9.6304]), tensor([9.2185])]\nLogits for hard examples=[tensor([-9.6449]), tensor([9.2406])]\nLogits for hard examples=[tensor([-9.6593]), tensor([9.2622])]\nLogits for hard examples=[tensor([-9.6737]), tensor([9.2833])]\nLogits for hard examples=[tensor([-9.6880]), tensor([9.3040])]\nLogits for hard examples=[tensor([-9.7022]), tensor([9.3241])]\nLogits for hard examples=[tensor([-9.7164]), tensor([9.3439])]\nLogits for hard examples=[tensor([-9.7305]), tensor([9.3633])]\nLogits for hard examples=[tensor([-9.7445]), tensor([9.3823])]\nLogits for hard examples=[tensor([-9.7584]), tensor([9.4009])]\nLogits for hard examples=[tensor([-9.7722]), tensor([9.4192])]\nLogits for hard examples=[tensor([-9.7859]), tensor([9.4371])]\nLogits for hard examples=[tensor([-9.7995]), tensor([9.4548])]\nLogits for hard examples=[tensor([-9.8130]), tensor([9.4721])]\nLogits for hard examples=[tensor([-9.8265]), tensor([9.4892])]\nLogits for hard examples=[tensor([-9.8398]), tensor([9.5059])]\nLogits for hard examples=[tensor([-9.8530]), tensor([9.5224])]\nLogits for hard examples=[tensor([-9.8661]), tensor([9.5387])]\nLogits for hard examples=[tensor([-9.8790]), tensor([9.5547])]\nLogits for hard examples=[tensor([-9.8919]), tensor([9.5704])]\nLogits for hard examples=[tensor([-9.9047]), tensor([9.5859])]\nLogits for hard examples=[tensor([-9.9173]), tensor([9.6012])]\nLogits for hard examples=[tensor([-9.9299]), tensor([9.6163])]\nLogits for hard examples=[tensor([-9.9423]), tensor([9.6311])]\nLogits for hard examples=[tensor([-9.9546]), tensor([9.6458])]\nLogits for hard examples=[tensor([-9.9669]), tensor([9.6602])]\nLogits for hard examples=[tensor([-9.9790]), tensor([9.6745])]\nLogits for hard examples=[tensor([-9.9910]), tensor([9.6885])]\nLogits for hard examples=[tensor([-10.0029]), tensor([9.7024])]\nLogits for hard examples=[tensor([-10.0146]), tensor([9.7161])]\nLogits for hard examples=[tensor([-10.0263]), tensor([9.7296])]\nLogits for hard examples=[tensor([-10.0379]), tensor([9.7430])]\nLogits for hard examples=[tensor([-10.0494]), tensor([9.7562])]\nLogits for hard examples=[tensor([-10.0608]), tensor([9.7692])]\nLogits for hard examples=[tensor([-10.0720]), tensor([9.7820])]\nLogits for hard examples=[tensor([-10.0832]), tensor([9.7948])]\nLogits for hard examples=[tensor([-10.0943]), tensor([9.8073])]\nLogits for hard examples=[tensor([-10.1052]), tensor([9.8197])]\nLogits for hard examples=[tensor([-10.1161]), tensor([9.8320])]\nLogits for hard examples=[tensor([-10.1269]), tensor([9.8441])]\nLogits for hard examples=[tensor([-10.1376]), tensor([9.8561])]\nLogits for hard examples=[tensor([-10.1482]), tensor([9.8680])]\nLogits for hard examples=[tensor([-10.1587]), tensor([9.8796])]\nLogits for hard examples=[tensor([-10.1691]), tensor([9.8913])]\nLogits for hard examples=[tensor([-10.1794]), tensor([9.9027])]\nLogits for hard examples=[tensor([-10.1896]), tensor([9.9140])]\nLogits for hard examples=[tensor([-10.1998]), tensor([9.9253])]\nLogits for hard examples=[tensor([-10.2098]), tensor([9.9364])]\nLogits for hard examples=[tensor([-10.2198]), tensor([9.9474])]\nLogits for hard examples=[tensor([-10.2296]), tensor([9.9582])]\nLogits for hard examples=[tensor([-10.2394]), tensor([9.9690])]\nLogits for hard examples=[tensor([-10.2492]), tensor([9.9797])]\nLogits for hard examples=[tensor([-10.2588]), tensor([9.9902])]\n"
        }
      ],
      "execution_count": 3
    },
    {
      "cell_type": "markdown",
      "metadata": {
        "jukit_cell_id": "18VLypK3Ez"
      },
      "source": [
        "## To implement\n",
        "\n",
        "1. Check for what values of `SEQUENCE_LEN` the model is able to discriminate betweeh the two hard examples (after training).\n",
        "2. Instead of training on `HARD_EXAMPLES` only, modify the training loop to train on sequences where zero may be in any position of the sequence (so any valid sequence of `Type 0`, not just the hardest one). After modifying the training loop check for what values of `SEQUENCE_LEN` you can train the model successfully.\n",
        "3. Replace LSTM by a classic RNN and check for what values of `SEQUENCE_LEN` you can train the model successfully.\n",
        "4. Write a proper curricullum learning loop, where in a loop you consider longer and longer sequences, where expansion of the sequence length happens only after the model is trained successfully on the current length.\n",
        "\n",
        "Note that for steps 2-4 you may need to change the value of `num_steps`."
      ]
    }
  ],
  "metadata": {
    "anaconda-cloud": {},
    "kernelspec": {
      "display_name": "python",
      "language": "python",
      "name": "python3"
    }
  },
  "nbformat": 4,
  "nbformat_minor": 4
}